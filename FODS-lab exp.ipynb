{
  "nbformat": 4,
  "nbformat_minor": 0,
  "metadata": {
    "colab": {
      "provenance": [],
      "authorship_tag": "ABX9TyPpB8fWtZUrHDXDj6FnuYfL",
      "include_colab_link": true
    },
    "kernelspec": {
      "name": "python3",
      "display_name": "Python 3"
    },
    "language_info": {
      "name": "python"
    }
  },
  "cells": [
    {
      "cell_type": "markdown",
      "metadata": {
        "id": "view-in-github",
        "colab_type": "text"
      },
      "source": [
        "<a href=\"https://colab.research.google.com/github/rathan4172/FODS/blob/main/FODS-lab%20exp.ipynb\" target=\"_parent\"><img src=\"https://colab.research.google.com/assets/colab-badge.svg\" alt=\"Open In Colab\"/></a>"
      ]
    },
    {
      "cell_type": "code",
      "source": [
        "import numpy as np\n",
        "\n",
        "student_scores = np.array([\n",
        "    [85, 90, 78, 92],\n",
        "    [88, 76, 85, 80],\n",
        "    [90, 92, 88, 85],\n",
        "    [70, 85, 80, 78]\n",
        "])\n",
        "\n",
        "subject_averages = np.mean(student_scores, axis=0)\n",
        "\n",
        "subject_names = ['Math', 'Science', 'English', 'History']\n",
        "highest_avg_index = np.argmax(subject_averages)\n",
        "highest_avg_subject = subject_names[highest_avg_index]\n",
        "\n",
        "print(\"Subject Averages:\", subject_averages)\n",
        "print(\"Subject with highest average score:\", highest_avg_subject)\n"
      ],
      "metadata": {
        "colab": {
          "base_uri": "https://localhost:8080/"
        },
        "id": "5X_W4eQVOzbb",
        "outputId": "39c1f1a3-b089-48f6-9220-b9af18499e06"
      },
      "execution_count": 9,
      "outputs": [
        {
          "output_type": "stream",
          "name": "stdout",
          "text": [
            "Subject Averages: [83.25 85.75 82.75 83.75]\n",
            "Subject with highest average score: Science\n"
          ]
        }
      ]
    },
    {
      "cell_type": "code",
      "source": [
        "import numpy as np\n",
        "\n",
        "sales_data = np.array([\n",
        "    [200, 250, 220],\n",
        "    [150, 180, 170],\n",
        "    [300, 310, 305]\n",
        "])\n",
        "average_price = np.mean(sales_data)\n",
        "\n",
        "print(\"Average price of all products sold:\", average_price)\n"
      ],
      "metadata": {
        "colab": {
          "base_uri": "https://localhost:8080/"
        },
        "id": "aUkPN9XOPiPm",
        "outputId": "20a5019b-79c3-403b-80a0-c12e63afe676"
      },
      "execution_count": 2,
      "outputs": [
        {
          "output_type": "stream",
          "name": "stdout",
          "text": [
            "Average price of all products sold: 231.66666666666666\n"
          ]
        }
      ]
    },
    {
      "cell_type": "code",
      "source": [
        "import numpy as np\n",
        "house_data = np.array([\n",
        "    [3, 1500, 250000],\n",
        "    [5, 2200, 400000],\n",
        "    [4, 1800, 320000],\n",
        "    [6, 3000, 550000],\n",
        "    [2, 1200, 200000]\n",
        "])\n",
        "filtered_houses = house_data[house_data[:, 0] > 4]\n",
        "average_sale_price = np.mean(filtered_houses[:, 2])\n",
        "\n",
        "print(\"Average sale price of houses with more than 4 bedrooms:\", average_sale_price)\n"
      ],
      "metadata": {
        "colab": {
          "base_uri": "https://localhost:8080/"
        },
        "id": "PfXLK8qgRQ-J",
        "outputId": "66f0adc7-07bd-40b9-c0af-6119d067b0e1"
      },
      "execution_count": 3,
      "outputs": [
        {
          "output_type": "stream",
          "name": "stdout",
          "text": [
            "Average sale price of houses with more than 4 bedrooms: 475000.0\n"
          ]
        }
      ]
    },
    {
      "cell_type": "code",
      "source": [
        "import numpy as np\n",
        "\n",
        "sales_data = np.array([100000, 120000, 150000, 180000])\n",
        "\n",
        "total_sales = np.sum(sales_data)\n",
        "\n",
        "percentage_increase = ((sales_data[3] - sales_data[0]) / sales_data[0]) * 100\n",
        "\n",
        "print(\"Total sales for the year:\", total_sales)\n",
        "print(\"Percentage increase from Q1 to Q4:\", percentage_increase, \"%\")\n"
      ],
      "metadata": {
        "colab": {
          "base_uri": "https://localhost:8080/"
        },
        "id": "qKEYZ5wFTkCA",
        "outputId": "0acd9540-9afa-4a65-e9f3-d9f1aba3ba8c"
      },
      "execution_count": 7,
      "outputs": [
        {
          "output_type": "stream",
          "name": "stdout",
          "text": [
            "Total sales for the year: 550000\n",
            "Percentage increase from Q1 to Q4: 80.0 %\n"
          ]
        }
      ]
    },
    {
      "cell_type": "code",
      "source": [
        "import numpy as np\n",
        "fuel_efficiency = np.array([25, 30, 28, 35, 40, 22, 33])\n",
        "\n",
        "average_efficiency = np.mean(fuel_efficiency)\n",
        "print(\"Average fuel efficiency:\", average_efficiency, \"MPG\")\n",
        "\n",
        "model_A = fuel_efficiency[0]\n",
        "model_B = fuel_efficiency[4]\n",
        "\n",
        "percentage_improvement = ((model_B - model_A) / model_A) * 100\n",
        "print(\"Percentage improvement from Model A to Model B:\", percentage_improvement, \"%\")\n"
      ],
      "metadata": {
        "colab": {
          "base_uri": "https://localhost:8080/"
        },
        "id": "ZuVvTY0vU_Op",
        "outputId": "6ab7ac0a-5897-4b66-ae06-15feabee4ae6"
      },
      "execution_count": 6,
      "outputs": [
        {
          "output_type": "stream",
          "name": "stdout",
          "text": [
            "Average fuel efficiency: 30.428571428571427 MPG\n",
            "Percentage improvement from Model A to Model B: 60.0 %\n"
          ]
        }
      ]
    }
  ]
}