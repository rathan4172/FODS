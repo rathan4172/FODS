{
  "nbformat": 4,
  "nbformat_minor": 0,
  "metadata": {
    "colab": {
      "provenance": [],
      "authorship_tag": "ABX9TyN8RcnBqUSBUSNmQT9nwgrh",
      "include_colab_link": true
    },
    "kernelspec": {
      "name": "python3",
      "display_name": "Python 3"
    },
    "language_info": {
      "name": "python"
    }
  },
  "cells": [
    {
      "cell_type": "markdown",
      "metadata": {
        "id": "view-in-github",
        "colab_type": "text"
      },
      "source": [
        "<a href=\"https://colab.research.google.com/github/rathan4172/FODS/blob/main/FODS.ipynb\" target=\"_parent\"><img src=\"https://colab.research.google.com/assets/colab-badge.svg\" alt=\"Open In Colab\"/></a>"
      ]
    },
    {
      "cell_type": "code",
      "source": [
        "import numpy as np\n",
        "\n",
        "# Step 1: Student score matrix (4 students x 4 subjects)\n",
        "student_scores = np.array([\n",
        "    [85, 90, 78, 92],\n",
        "    [88, 76, 85, 80],\n",
        "    [90, 92, 88, 85],\n",
        "    [70, 85, 80, 78]\n",
        "])\n",
        "\n",
        "# Step 2: Calculate average for each subject\n",
        "subject_averages = np.mean(student_scores, axis=0)\n",
        "\n",
        "# Step 3: Find subject with highest average\n",
        "subject_names = ['Math', 'Science', 'English', 'History']\n",
        "highest_avg_index = np.argmax(subject_averages)\n",
        "highest_avg_subject = subject_names[highest_avg_index]\n",
        "\n",
        "# Output\n",
        "print(\"Subject Averages:\", subject_averages)\n",
        "print(\"Subject with highest average score:\", highest_avg_subject)\n"
      ],
      "metadata": {
        "colab": {
          "base_uri": "https://localhost:8080/"
        },
        "id": "5X_W4eQVOzbb",
        "outputId": "78cb7df9-a380-4e75-fbfe-bb61453f5b27"
      },
      "execution_count": 1,
      "outputs": [
        {
          "output_type": "stream",
          "name": "stdout",
          "text": [
            "Subject Averages: [83.25 85.75 82.75 83.75]\n",
            "Subject with highest average score: Science\n"
          ]
        }
      ]
    },
    {
      "cell_type": "code",
      "source": [
        "import numpy as np\n",
        "\n",
        "sales_data = np.array([\n",
        "    [200, 250, 220],\n",
        "    [150, 180, 170],\n",
        "    [300, 310, 305]\n",
        "])\n",
        "average_price = np.mean(sales_data)\n",
        "\n",
        "print(\"Average price of all products sold:\", average_price)\n"
      ],
      "metadata": {
        "colab": {
          "base_uri": "https://localhost:8080/"
        },
        "id": "aUkPN9XOPiPm",
        "outputId": "20a5019b-79c3-403b-80a0-c12e63afe676"
      },
      "execution_count": 2,
      "outputs": [
        {
          "output_type": "stream",
          "name": "stdout",
          "text": [
            "Average price of all products sold: 231.66666666666666\n"
          ]
        }
      ]
    },
    {
      "cell_type": "code",
      "source": [
        "import numpy as np\n",
        "house_data = np.array([\n",
        "    [3, 1500, 250000],\n",
        "    [5, 2200, 400000],\n",
        "    [4, 1800, 320000],\n",
        "    [6, 3000, 550000],\n",
        "    [2, 1200, 200000]\n",
        "])\n",
        "filtered_houses = house_data[house_data[:, 0] > 4]\n",
        "average_sale_price = np.mean(filtered_houses[:, 2])\n",
        "\n",
        "print(\"Average sale price of houses with more than 4 bedrooms:\", average_sale_price)\n"
      ],
      "metadata": {
        "colab": {
          "base_uri": "https://localhost:8080/"
        },
        "id": "PfXLK8qgRQ-J",
        "outputId": "66f0adc7-07bd-40b9-c0af-6119d067b0e1"
      },
      "execution_count": 3,
      "outputs": [
        {
          "output_type": "stream",
          "name": "stdout",
          "text": [
            "Average sale price of houses with more than 4 bedrooms: 475000.0\n"
          ]
        }
      ]
    }
  ]
}